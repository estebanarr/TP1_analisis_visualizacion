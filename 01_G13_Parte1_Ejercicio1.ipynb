{
 "cells": [
  {
   "cell_type": "markdown",
   "metadata": {
    "id": "LYvAOR2VzHmW"
   },
   "source": [
    "\n",
    "**Diplomatura en Ciencia de Datos, Aprendizaje Automático y sus Aplicaciones**\n",
    "\n",
    "**Edición 2021**\n",
    "\n",
    "---\n",
    "## Trabajo práctico entregable - Parte 1 - Ejercicio 1\n",
    "**GRUPO 13**"
   ]
  },
  {
   "cell_type": "code",
   "execution_count": null,
   "metadata": {
    "colab": {
     "base_uri": "https://localhost:8080/"
    },
    "id": "Xwdfo7z20TUK",
    "outputId": "bb5a2de7-f22a-4406-b897-67484641595c"
   },
   "outputs": [
    {
     "name": "stdout",
     "output_type": "stream",
     "text": [
      "Requirement already satisfied: ptitprince in /usr/local/lib/python3.7/dist-packages (0.2.5)\n",
      "Requirement already satisfied: cython in /usr/local/lib/python3.7/dist-packages (from ptitprince) (0.29.23)\n",
      "Requirement already satisfied: numpy>=1.13 in /usr/local/lib/python3.7/dist-packages (from ptitprince) (1.19.5)\n",
      "Requirement already satisfied: matplotlib in /usr/local/lib/python3.7/dist-packages (from ptitprince) (3.2.2)\n",
      "Requirement already satisfied: seaborn>=0.10 in /usr/local/lib/python3.7/dist-packages (from ptitprince) (0.11.1)\n",
      "Requirement already satisfied: PyHamcrest>=1.9.0 in /usr/local/lib/python3.7/dist-packages (from ptitprince) (2.0.2)\n",
      "Requirement already satisfied: scipy in /usr/local/lib/python3.7/dist-packages (from ptitprince) (1.4.1)\n",
      "Requirement already satisfied: cycler>=0.10 in /usr/local/lib/python3.7/dist-packages (from matplotlib->ptitprince) (0.10.0)\n",
      "Requirement already satisfied: python-dateutil>=2.1 in /usr/local/lib/python3.7/dist-packages (from matplotlib->ptitprince) (2.8.1)\n",
      "Requirement already satisfied: kiwisolver>=1.0.1 in /usr/local/lib/python3.7/dist-packages (from matplotlib->ptitprince) (1.3.1)\n",
      "Requirement already satisfied: pyparsing!=2.0.4,!=2.1.2,!=2.1.6,>=2.0.1 in /usr/local/lib/python3.7/dist-packages (from matplotlib->ptitprince) (2.4.7)\n",
      "Requirement already satisfied: pandas>=0.23 in /usr/local/lib/python3.7/dist-packages (from seaborn>=0.10->ptitprince) (1.1.5)\n",
      "Requirement already satisfied: six in /usr/local/lib/python3.7/dist-packages (from cycler>=0.10->matplotlib->ptitprince) (1.15.0)\n",
      "Requirement already satisfied: pytz>=2017.2 in /usr/local/lib/python3.7/dist-packages (from pandas>=0.23->seaborn>=0.10->ptitprince) (2018.9)\n"
     ]
    }
   ],
   "source": [
    "import io\n",
    "import matplotlib\n",
    "import matplotlib.pyplot as plt\n",
    "import numpy as np\n",
    "import pandas as pd\n",
    "import seaborn as sns\n",
    "import seaborn\n",
    "\n",
    "seaborn.set_context('talk')\n",
    "\n",
    "!pip install ptitprince\n",
    "import ptitprince as pt"
   ]
  },
  {
   "cell_type": "markdown",
   "metadata": {
    "id": "XY2Hl-Ma07Nn"
   },
   "source": [
    "## Lectura del dataset\n",
    "\n",
    "En la notebook 00 se explican los detalles de la siguiente sección."
   ]
  },
  {
   "cell_type": "code",
   "execution_count": null,
   "metadata": {
    "id": "Vviv_sqXdR5W"
   },
   "outputs": [],
   "source": [
    "url = 'https://cs.famaf.unc.edu.ar/~mteruel/datasets/diplodatos/sysarmy_survey_2020_processed.csv'\n",
    "df = pd.read_csv(url)"
   ]
  },
  {
   "cell_type": "code",
   "execution_count": null,
   "metadata": {
    "colab": {
     "base_uri": "https://localhost:8080/",
     "height": 291
    },
    "id": "gckNHXXLktJ4",
    "outputId": "44fc8ae3-c1b5-4045-e144-4365411fa901"
   },
   "outputs": [
    {
     "data": {
      "text/html": [
       "<div>\n",
       "<style scoped>\n",
       "    .dataframe tbody tr th:only-of-type {\n",
       "        vertical-align: middle;\n",
       "    }\n",
       "\n",
       "    .dataframe tbody tr th {\n",
       "        vertical-align: top;\n",
       "    }\n",
       "\n",
       "    .dataframe thead th {\n",
       "        text-align: right;\n",
       "    }\n",
       "</style>\n",
       "<table border=\"1\" class=\"dataframe\">\n",
       "  <thead>\n",
       "    <tr style=\"text-align: right;\">\n",
       "      <th></th>\n",
       "      <th>profile_gender</th>\n",
       "      <th>profile_age</th>\n",
       "      <th>work_country</th>\n",
       "      <th>work_province</th>\n",
       "      <th>profile_years_experience</th>\n",
       "      <th>work_years_in_company</th>\n",
       "      <th>work_years_in_current_position</th>\n",
       "      <th>work_people_in_charge_of</th>\n",
       "      <th>profile_studies_level</th>\n",
       "      <th>profile_studies_level_state</th>\n",
       "      <th>profile_career</th>\n",
       "      <th>profile_university</th>\n",
       "      <th>profile_specialization_courses</th>\n",
       "      <th>profile_open_source_contributions</th>\n",
       "      <th>profile_programming_as_hobby</th>\n",
       "      <th>work_role</th>\n",
       "      <th>tools_platform</th>\n",
       "      <th>tools_programming_languages</th>\n",
       "      <th>tools_frameworks</th>\n",
       "      <th>tools_data_bases</th>\n",
       "      <th>tools_qa_testing</th>\n",
       "      <th>tools_IDEs</th>\n",
       "      <th>tools_work_pc_os</th>\n",
       "      <th>tools_cellphone_os</th>\n",
       "      <th>work_on_call_duty</th>\n",
       "      <th>salary_on_call_duty_charge</th>\n",
       "      <th>work_on_call_duty_charge_type</th>\n",
       "      <th>work_contract_type</th>\n",
       "      <th>salary_monthly_BRUTO</th>\n",
       "      <th>salary_monthly_NETO</th>\n",
       "      <th>salary_in_usd</th>\n",
       "      <th>salary_satisfaction</th>\n",
       "      <th>salary_comparison_last_semester</th>\n",
       "      <th>salary_has_bonus</th>\n",
       "      <th>salary_bonus_tied_to</th>\n",
       "      <th>salary_inflation_adjustment_2020</th>\n",
       "      <th>salary_percentage_inflation_adjustment_2020</th>\n",
       "      <th>salary_month_last_inflation_adjustment</th>\n",
       "      <th>work_has_violence_situations</th>\n",
       "      <th>profile_sexual_orientation</th>\n",
       "      <th>profile_has_disabilities</th>\n",
       "      <th>profile_has_disabilities_hiring_difficulties</th>\n",
       "      <th>company_employee_number</th>\n",
       "      <th>company_main_activity</th>\n",
       "      <th>company_recommended</th>\n",
       "      <th>company_diversity_policies</th>\n",
       "      <th>company_extra_benefits</th>\n",
       "      <th>company_best_companies_city</th>\n",
       "    </tr>\n",
       "  </thead>\n",
       "  <tbody>\n",
       "    <tr>\n",
       "      <th>0</th>\n",
       "      <td>Mujer</td>\n",
       "      <td>26</td>\n",
       "      <td>Argentina</td>\n",
       "      <td>Ciudad Autónoma de Buenos Aires</td>\n",
       "      <td>3.0</td>\n",
       "      <td>3.0</td>\n",
       "      <td>3.0</td>\n",
       "      <td>0</td>\n",
       "      <td>Universitario</td>\n",
       "      <td>En curso</td>\n",
       "      <td>Ingeniería en Sistemas de Información</td>\n",
       "      <td>UTN - Universidad Tecnológica Nacional</td>\n",
       "      <td>Sí, los pagó un empleador</td>\n",
       "      <td>No</td>\n",
       "      <td>Sí</td>\n",
       "      <td>Consultant</td>\n",
       "      <td>Ninguna</td>\n",
       "      <td>Ninguno</td>\n",
       "      <td>Ninguno</td>\n",
       "      <td>Ninguna</td>\n",
       "      <td>Ninguna</td>\n",
       "      <td>Ninguno</td>\n",
       "      <td>GNU/Linux</td>\n",
       "      <td>Android</td>\n",
       "      <td>No</td>\n",
       "      <td>0.0</td>\n",
       "      <td>Bruto</td>\n",
       "      <td>Full-Time</td>\n",
       "      <td>53000.0</td>\n",
       "      <td>43000.0</td>\n",
       "      <td>NaN</td>\n",
       "      <td>1</td>\n",
       "      <td>1</td>\n",
       "      <td>No</td>\n",
       "      <td>No recibo bono</td>\n",
       "      <td>No</td>\n",
       "      <td>0.0</td>\n",
       "      <td>0</td>\n",
       "      <td>En mi trabajo actual</td>\n",
       "      <td>Homosexual</td>\n",
       "      <td>NaN</td>\n",
       "      <td>NaN</td>\n",
       "      <td>501-1000</td>\n",
       "      <td>Servicios / Consultoría de Software / Digital</td>\n",
       "      <td>7</td>\n",
       "      <td>2</td>\n",
       "      <td>Capacitaciones y/o cursos, Comidas pagas / sub...</td>\n",
       "      <td>NaN</td>\n",
       "    </tr>\n",
       "    <tr>\n",
       "      <th>1</th>\n",
       "      <td>Hombre</td>\n",
       "      <td>29</td>\n",
       "      <td>Argentina</td>\n",
       "      <td>Corrientes</td>\n",
       "      <td>5.0</td>\n",
       "      <td>2.0</td>\n",
       "      <td>2.0</td>\n",
       "      <td>4</td>\n",
       "      <td>Universitario</td>\n",
       "      <td>En curso</td>\n",
       "      <td>Ingeniería en Sistemas de Información</td>\n",
       "      <td>UTN - Universidad Tecnológica Nacional</td>\n",
       "      <td>Sí, de forma particular, Sí, los pagó un emple...</td>\n",
       "      <td>No</td>\n",
       "      <td>Sí</td>\n",
       "      <td>Developer</td>\n",
       "      <td>Docker, Google Cloud Platform/App Engine</td>\n",
       "      <td>HTML, Javascript, Python</td>\n",
       "      <td>Django, jQuery</td>\n",
       "      <td>Informix, MySQL, PostgreSQL</td>\n",
       "      <td>Ninguna</td>\n",
       "      <td>IPython / Jupyter, Sublime Text, Visual Studio...</td>\n",
       "      <td>GNU/Linux</td>\n",
       "      <td>Android</td>\n",
       "      <td>No</td>\n",
       "      <td>0.0</td>\n",
       "      <td>Bruto</td>\n",
       "      <td>Full-Time</td>\n",
       "      <td>79000.0</td>\n",
       "      <td>63000.0</td>\n",
       "      <td>NaN</td>\n",
       "      <td>2</td>\n",
       "      <td>2</td>\n",
       "      <td>Menos de un sueldo</td>\n",
       "      <td>Performance de la compañía</td>\n",
       "      <td>Uno</td>\n",
       "      <td>10.0</td>\n",
       "      <td>1</td>\n",
       "      <td>Jamás</td>\n",
       "      <td>Heterosexual</td>\n",
       "      <td>Visual</td>\n",
       "      <td>No</td>\n",
       "      <td>201-500</td>\n",
       "      <td>Otras industrias</td>\n",
       "      <td>8</td>\n",
       "      <td>9</td>\n",
       "      <td>Horarios flexibles, Stock options / RSUs, Viát...</td>\n",
       "      <td>NaN</td>\n",
       "    </tr>\n",
       "    <tr>\n",
       "      <th>2</th>\n",
       "      <td>Mujer</td>\n",
       "      <td>22</td>\n",
       "      <td>Argentina</td>\n",
       "      <td>Ciudad Autónoma de Buenos Aires</td>\n",
       "      <td>2.0</td>\n",
       "      <td>0.0</td>\n",
       "      <td>0.0</td>\n",
       "      <td>0</td>\n",
       "      <td>Secundario</td>\n",
       "      <td>Completado</td>\n",
       "      <td>NaN</td>\n",
       "      <td>NaN</td>\n",
       "      <td>Sí, de forma particular, Sí, los pagó un emple...</td>\n",
       "      <td>No</td>\n",
       "      <td>Sí</td>\n",
       "      <td>Infosec</td>\n",
       "      <td>Linux, VMWare</td>\n",
       "      <td>Ninguno</td>\n",
       "      <td>Ninguno</td>\n",
       "      <td>Ninguna</td>\n",
       "      <td>Ninguna</td>\n",
       "      <td>Ninguno</td>\n",
       "      <td>Windows</td>\n",
       "      <td>iOS</td>\n",
       "      <td>No</td>\n",
       "      <td>0.0</td>\n",
       "      <td>Porcentaje de mi sueldo</td>\n",
       "      <td>Full-Time</td>\n",
       "      <td>160000.0</td>\n",
       "      <td>127000.0</td>\n",
       "      <td>NaN</td>\n",
       "      <td>3</td>\n",
       "      <td>3</td>\n",
       "      <td>Un sueldo</td>\n",
       "      <td>Performance individual</td>\n",
       "      <td>No</td>\n",
       "      <td>0.0</td>\n",
       "      <td>0</td>\n",
       "      <td>En un trabajo anterior</td>\n",
       "      <td>Bisexual o queer</td>\n",
       "      <td>NaN</td>\n",
       "      <td>No</td>\n",
       "      <td>2001-5000</td>\n",
       "      <td>Otras industrias</td>\n",
       "      <td>6</td>\n",
       "      <td>9</td>\n",
       "      <td>Clases de gimnasia online, Comidas pagas / sub...</td>\n",
       "      <td>NaN</td>\n",
       "    </tr>\n",
       "  </tbody>\n",
       "</table>\n",
       "</div>"
      ],
      "text/plain": [
       "  profile_gender  ...  company_best_companies_city\n",
       "0          Mujer  ...                          NaN\n",
       "1         Hombre  ...                          NaN\n",
       "2          Mujer  ...                          NaN\n",
       "\n",
       "[3 rows x 48 columns]"
      ]
     },
     "execution_count": 27,
     "metadata": {
      "tags": []
     },
     "output_type": "execute_result"
    }
   ],
   "source": [
    "df[:3]"
   ]
  },
  {
   "cell_type": "code",
   "execution_count": null,
   "metadata": {
    "colab": {
     "base_uri": "https://localhost:8080/"
    },
    "id": "Kdx8VqQdY0B1",
    "outputId": "6231b9ca-31b1-4d9a-cd82-a0f849082d60"
   },
   "outputs": [
    {
     "data": {
      "text/plain": [
       "(6095, 48)"
      ]
     },
     "execution_count": 28,
     "metadata": {
      "tags": []
     },
     "output_type": "execute_result"
    }
   ],
   "source": [
    "df.shape"
   ]
  },
  {
   "cell_type": "markdown",
   "metadata": {
    "id": "-ZSQYANFHHgV"
   },
   "source": [
    "# Ejercicio 1 - Análisis descriptivo\n",
    "\n",
    "Responder a la pregunta: **¿Cuáles son los lenguajes de programación asociados a los mejores salarios?**\n",
    "\n",
    "Para ello:\n",
    "1. Seleccionar las columnas relevantes para analizar.\n",
    "2. Seleccionar las filas relevantes para analizar. Esto incluye la eliminación de valores extremos y erróneos, pero también puede enfocar el análisis en una sub-población. Por ejemplo, se pueden limitar a personas con un salario mayor que 10000 pesos, o a las personas que trabajan sólo en \"Data Science\", pero deben justificar su elección y reformular la pregunta inicial de ser necesario.\n",
    "  * Obtener una lista de los lenguajes de programación más populares. Decidir cuántos y cuáles seleccionan para incluir en el análisis.\n",
    "  * Para cada una de las otras columnas del punto anterior, elegir los rangos o valores seleccionan para incluir en el análisis.\n",
    "3. Seleccionar métricas que ayuden a responder la pregunta, y los métodos para analizarlas. Elegir UNA de las siguientes opciones:\n",
    "  * Comparar las distribuciones de salario para cada lenguaje utilizando visualizaciones. Como la visualización es el producto final, debe ser clara y mostrar información relevante.\n",
    "  * Comparar medidas de estadística descriptiva sobre la distribución de salario para cada lenguaje. Sean creativos, la estadística descriptiva nos permite decir cosas como: \"el 10% de los mejores sueldos los ganan, en su mayoría, programadores que saben kotlin!\" (donde *mayoría* es un término medio engañoso que sólo significa más del 50%). Para comparar múltiples lenguajes, les recomendamos usar también visualizaciones.\n",
    "  * Comparar probabilidades. Por ejemplo: \"Si sabés Python o Java, tenés un 30% más de chances de ganar arriba de 100K\".\n",
    "\n",
    "Si lo consideran necesario, realicen varias iteraciones. Es decir, si encuentran que las distribuciones de los lenguajes de programación que seleccionaron inicialmente no son muy diferentes, pueden re-hacer el análisis usando sólo los lenguajes de programación que son diferentes."
   ]
  },
  {
   "cell_type": "markdown",
   "metadata": {
    "id": "M9dN_J_kRQfP"
   },
   "source": [
    "1. Seleccionamos las columnas relevantes"
   ]
  },
  {
   "cell_type": "code",
   "execution_count": null,
   "metadata": {
    "id": "6dqTEr7cZgvl"
   },
   "outputs": [],
   "source": [
    "# 1) Columnas relevantes\n",
    "relevant_columns = ['tools_programming_languages', 'salary_monthly_NETO', 'work_contract_type', \n",
    "                     'salary_in_usd', \"work_role\"]"
   ]
  },
  {
   "cell_type": "markdown",
   "metadata": {
    "id": "OoGgzMvuEocM"
   },
   "source": [
    "### Conteo de frecuencias de los lenguajes de programación\n",
    "\n",
    "La columna que contiene información sobre los lenguajes de programación utilizados es `tools_programming_languages`. Sus valores son strings con los lenguajes seleccionados separados por comas.\n",
    "\n"
   ]
  },
  {
   "cell_type": "code",
   "execution_count": null,
   "metadata": {
    "colab": {
     "base_uri": "https://localhost:8080/"
    },
    "id": "J7AB2Ty8SvNl",
    "outputId": "79edc460-f687-4b9b-f40d-628166e1baa5"
   },
   "outputs": [
    {
     "data": {
      "text/plain": [
       "0                     Ninguno\n",
       "1    HTML, Javascript, Python\n",
       "2                     Ninguno\n",
       "Name: tools_programming_languages, dtype: object"
      ]
     },
     "execution_count": 30,
     "metadata": {
      "tags": []
     },
     "output_type": "execute_result"
    }
   ],
   "source": [
    "df.tools_programming_languages[:3]"
   ]
  },
  {
   "cell_type": "markdown",
   "metadata": {
    "id": "l8bYmvMhSroH"
   },
   "source": [
    "Las siguientes celdas de código separan estos lenguajes de programación y cuentan la frecuencia con la que aparecen.\n",
    "\n",
    "No es necesario entender este código en profundidad, aunque sí es un buen ejercicio."
   ]
  },
  {
   "cell_type": "code",
   "execution_count": null,
   "metadata": {
    "colab": {
     "base_uri": "https://localhost:8080/",
     "height": 197
    },
    "id": "PAQ81x3iUP_N",
    "outputId": "e42bc2af-6c50-417d-ecda-3793f3f6f63c"
   },
   "outputs": [
    {
     "data": {
      "text/html": [
       "<div>\n",
       "<style scoped>\n",
       "    .dataframe tbody tr th:only-of-type {\n",
       "        vertical-align: middle;\n",
       "    }\n",
       "\n",
       "    .dataframe tbody tr th {\n",
       "        vertical-align: top;\n",
       "    }\n",
       "\n",
       "    .dataframe thead th {\n",
       "        text-align: right;\n",
       "    }\n",
       "</style>\n",
       "<table border=\"1\" class=\"dataframe\">\n",
       "  <thead>\n",
       "    <tr style=\"text-align: right;\">\n",
       "      <th></th>\n",
       "      <th>programming_language</th>\n",
       "      <th>tools_programming_languages</th>\n",
       "      <th>salary_monthly_NETO</th>\n",
       "      <th>work_contract_type</th>\n",
       "      <th>salary_in_usd</th>\n",
       "      <th>work_role</th>\n",
       "      <th>cured_programming_languages</th>\n",
       "    </tr>\n",
       "  </thead>\n",
       "  <tbody>\n",
       "    <tr>\n",
       "      <th>0</th>\n",
       "      <td>ninguno</td>\n",
       "      <td>Ninguno</td>\n",
       "      <td>43000.0</td>\n",
       "      <td>Full-Time</td>\n",
       "      <td>NaN</td>\n",
       "      <td>Consultant</td>\n",
       "      <td>[ninguno]</td>\n",
       "    </tr>\n",
       "    <tr>\n",
       "      <th>1</th>\n",
       "      <td>html</td>\n",
       "      <td>HTML, Javascript, Python</td>\n",
       "      <td>63000.0</td>\n",
       "      <td>Full-Time</td>\n",
       "      <td>NaN</td>\n",
       "      <td>Developer</td>\n",
       "      <td>[html, javascript, python]</td>\n",
       "    </tr>\n",
       "    <tr>\n",
       "      <th>1</th>\n",
       "      <td>javascript</td>\n",
       "      <td>HTML, Javascript, Python</td>\n",
       "      <td>63000.0</td>\n",
       "      <td>Full-Time</td>\n",
       "      <td>NaN</td>\n",
       "      <td>Developer</td>\n",
       "      <td>[html, javascript, python]</td>\n",
       "    </tr>\n",
       "    <tr>\n",
       "      <th>1</th>\n",
       "      <td>python</td>\n",
       "      <td>HTML, Javascript, Python</td>\n",
       "      <td>63000.0</td>\n",
       "      <td>Full-Time</td>\n",
       "      <td>NaN</td>\n",
       "      <td>Developer</td>\n",
       "      <td>[html, javascript, python]</td>\n",
       "    </tr>\n",
       "    <tr>\n",
       "      <th>2</th>\n",
       "      <td>ninguno</td>\n",
       "      <td>Ninguno</td>\n",
       "      <td>127000.0</td>\n",
       "      <td>Full-Time</td>\n",
       "      <td>NaN</td>\n",
       "      <td>Infosec</td>\n",
       "      <td>[ninguno]</td>\n",
       "    </tr>\n",
       "  </tbody>\n",
       "</table>\n",
       "</div>"
      ],
      "text/plain": [
       "  programming_language  ... cured_programming_languages\n",
       "0              ninguno  ...                   [ninguno]\n",
       "1                 html  ...  [html, javascript, python]\n",
       "1           javascript  ...  [html, javascript, python]\n",
       "1               python  ...  [html, javascript, python]\n",
       "2              ninguno  ...                   [ninguno]\n",
       "\n",
       "[5 rows x 7 columns]"
      ]
     },
     "execution_count": 31,
     "metadata": {
      "tags": []
     },
     "output_type": "execute_result"
    }
   ],
   "source": [
    "# Convert the comma-separated string of languages to a list of string.\n",
    "# Remove 'ninguno de los anteriores' option, spaces and training commas.\n",
    "def split_languages(languages_str):\n",
    "  if not isinstance(languages_str, str):\n",
    "    return []\n",
    "  # Remove 'other' option\n",
    "  languages_str = languages_str.lower()\\\n",
    "    .replace('ninguno de los anteriores', '')\n",
    "  # Split string into list of items\n",
    "  # Remove spaces and commas for each item\n",
    "  return [lang.strip().replace(',', '')\n",
    "          for lang in languages_str.split()]\n",
    "\n",
    "# Create a new column with the list of languages\n",
    "df.loc[:, 'cured_programming_languages'] = df.tools_programming_languages\\\n",
    "    .apply(split_languages)\n",
    "if 'cured_programming_languages' not in relevant_columns:\n",
    "    relevant_columns.append('cured_programming_languages') \n",
    "\n",
    "# Duplicate each row of df for each programming language\n",
    "# mentioned in the response.\n",
    "# We only include in df_lang the columns we are going to analyze later, so we\n",
    "# don't duplicate innecesary information.\n",
    "df_lang = df.cured_programming_languages\\\n",
    "    .apply(pd.Series).stack()\\\n",
    "    .reset_index(level=-1, drop=True).to_frame()\\\n",
    "    .join(df[relevant_columns])\\\n",
    "    .rename(columns={0: 'programming_language'})\n",
    "# Horrible programming style! But a lot of data science code can be written with\n",
    "# as concatenations of functions (pipelines), and there's no elegant way of\n",
    "# doing that on Python.\n",
    "df_lang[:5]"
   ]
  },
  {
   "cell_type": "code",
   "execution_count": null,
   "metadata": {
    "colab": {
     "base_uri": "https://localhost:8080/"
    },
    "id": "SZ_9SzXJy-zd",
    "outputId": "618f8a35-8da2-4713-a147-2f7f9121b758"
   },
   "outputs": [
    {
     "data": {
      "text/plain": [
       "Developer                                 8809\n",
       "HelpDesk                                   238\n",
       "Middleware                                  52\n",
       "todos los de arriba                         10\n",
       "Soporte de aplicaciones niv 1, 2 y 3         7\n",
       "Soporte tecnico, redes y programación        6\n",
       "Informatica forense                          6\n",
       "Analista Funcional                           5\n",
       "Cto                                          5\n",
       "Service manager                              4\n",
       "Coordinadora proyectos educativos tech       4\n",
       "Application Support                          4\n",
       "IT Responsible                               3\n",
       "Project leader                               3\n",
       "R&D Engineer                                 2\n",
       "Repartidor, Construcción y atendedor         2\n",
       "Game developer                               2\n",
       "Responsable BI                               2\n",
       "Analista                                     1\n",
       "system engineer                              1\n",
       "QA Automation                                1\n",
       "Business Partner IT                          1\n",
       "Program Manager                              1\n",
       "Onsite Support                               1\n",
       "Presales architect                           1\n",
       "Marketing Team Lead                          1\n",
       "Name: work_role, dtype: int64"
      ]
     },
     "execution_count": 32,
     "metadata": {
      "tags": []
     },
     "output_type": "execute_result"
    }
   ],
   "source": [
    "df_lang.work_role.value_counts()[::10]"
   ]
  },
  {
   "cell_type": "markdown",
   "metadata": {
    "id": "xZpUFTeqSIv4"
   },
   "source": [
    "##2. Consideraciones\n",
    "---\n",
    "\n",
    "A continuación, de acuerdo a las columnas relevantes que elegimos mas arriba, decidimos filtrar nuestro dataset considerando:\n",
    "\n",
    "*   **Personas cuyo sueldo no esté dolarizado**\n",
    "*   **Modalidad de contrato Full time**: no nos pareció prudente comparar salarios de modalidades de contrato con diversa carga horaria. Suponemos que la modalidad full time implica una jornada diaria de 8-9 horas. Por otra parte, aquellos que tienen contrato de forma remota (empresas del exterior), tienen una enorme diferencia salarial con el resto de la muestra, por lo que decidimos eliminarlos para nuestro análisis, lo que guarda relación con la eliminación de los sueldos dolarizados, además de que eran pocas realizaciones en comparación a la modalidad full-time.\n",
    "*   **Personas que trabajen exclusivamente como desarrolladores**: se eliminaron los cargos gerenciales, managers, CEO, coordinadores, etc, ya que son personas que no utilizan el lenguaje de programación para su trabajo habitual y, por lo tanto, no responde a nuestra pregunta inicial. \n",
    "\n",
    "Entonces nuestro dataset tiene en cuenta aquellas personas cuyo sueldo no está dolarizado, trabajan en modalidad full-time, y como desarrolladores.\n",
    "\n",
    "\n",
    "\n"
   ]
  },
  {
   "cell_type": "code",
   "execution_count": null,
   "metadata": {
    "colab": {
     "base_uri": "https://localhost:8080/",
     "height": 406
    },
    "id": "0hVJSV3G1h-s",
    "outputId": "f6df23f4-76f7-46ff-9f73-40c11172d8be"
   },
   "outputs": [
    {
     "data": {
      "text/html": [
       "<div>\n",
       "<style scoped>\n",
       "    .dataframe tbody tr th:only-of-type {\n",
       "        vertical-align: middle;\n",
       "    }\n",
       "\n",
       "    .dataframe tbody tr th {\n",
       "        vertical-align: top;\n",
       "    }\n",
       "\n",
       "    .dataframe thead th {\n",
       "        text-align: right;\n",
       "    }\n",
       "</style>\n",
       "<table border=\"1\" class=\"dataframe\">\n",
       "  <thead>\n",
       "    <tr style=\"text-align: right;\">\n",
       "      <th></th>\n",
       "      <th>programming_language</th>\n",
       "      <th>tools_programming_languages</th>\n",
       "      <th>salary_monthly_NETO</th>\n",
       "      <th>work_contract_type</th>\n",
       "      <th>salary_in_usd</th>\n",
       "      <th>work_role</th>\n",
       "      <th>cured_programming_languages</th>\n",
       "    </tr>\n",
       "  </thead>\n",
       "  <tbody>\n",
       "    <tr>\n",
       "      <th>1</th>\n",
       "      <td>html</td>\n",
       "      <td>HTML, Javascript, Python</td>\n",
       "      <td>63000.0</td>\n",
       "      <td>Full-Time</td>\n",
       "      <td>NaN</td>\n",
       "      <td>Developer</td>\n",
       "      <td>[html, javascript, python]</td>\n",
       "    </tr>\n",
       "    <tr>\n",
       "      <th>1</th>\n",
       "      <td>javascript</td>\n",
       "      <td>HTML, Javascript, Python</td>\n",
       "      <td>63000.0</td>\n",
       "      <td>Full-Time</td>\n",
       "      <td>NaN</td>\n",
       "      <td>Developer</td>\n",
       "      <td>[html, javascript, python]</td>\n",
       "    </tr>\n",
       "    <tr>\n",
       "      <th>1</th>\n",
       "      <td>python</td>\n",
       "      <td>HTML, Javascript, Python</td>\n",
       "      <td>63000.0</td>\n",
       "      <td>Full-Time</td>\n",
       "      <td>NaN</td>\n",
       "      <td>Developer</td>\n",
       "      <td>[html, javascript, python]</td>\n",
       "    </tr>\n",
       "    <tr>\n",
       "      <th>4</th>\n",
       "      <td>css</td>\n",
       "      <td>CSS, HTML, Javascript, SQL, TypeScript</td>\n",
       "      <td>106000.0</td>\n",
       "      <td>Full-Time</td>\n",
       "      <td>NaN</td>\n",
       "      <td>Developer</td>\n",
       "      <td>[css, html, javascript, sql, typescript]</td>\n",
       "    </tr>\n",
       "    <tr>\n",
       "      <th>4</th>\n",
       "      <td>html</td>\n",
       "      <td>CSS, HTML, Javascript, SQL, TypeScript</td>\n",
       "      <td>106000.0</td>\n",
       "      <td>Full-Time</td>\n",
       "      <td>NaN</td>\n",
       "      <td>Developer</td>\n",
       "      <td>[css, html, javascript, sql, typescript]</td>\n",
       "    </tr>\n",
       "    <tr>\n",
       "      <th>...</th>\n",
       "      <td>...</td>\n",
       "      <td>...</td>\n",
       "      <td>...</td>\n",
       "      <td>...</td>\n",
       "      <td>...</td>\n",
       "      <td>...</td>\n",
       "      <td>...</td>\n",
       "    </tr>\n",
       "    <tr>\n",
       "      <th>6090</th>\n",
       "      <td>html</td>\n",
       "      <td>.NET, C#, COBOL, CSS, HTML, Javascript, PHP, S...</td>\n",
       "      <td>97000.0</td>\n",
       "      <td>Full-Time</td>\n",
       "      <td>NaN</td>\n",
       "      <td>Developer</td>\n",
       "      <td>[.net, c#, cobol, css, html, javascript, php, ...</td>\n",
       "    </tr>\n",
       "    <tr>\n",
       "      <th>6090</th>\n",
       "      <td>javascript</td>\n",
       "      <td>.NET, C#, COBOL, CSS, HTML, Javascript, PHP, S...</td>\n",
       "      <td>97000.0</td>\n",
       "      <td>Full-Time</td>\n",
       "      <td>NaN</td>\n",
       "      <td>Developer</td>\n",
       "      <td>[.net, c#, cobol, css, html, javascript, php, ...</td>\n",
       "    </tr>\n",
       "    <tr>\n",
       "      <th>6090</th>\n",
       "      <td>php</td>\n",
       "      <td>.NET, C#, COBOL, CSS, HTML, Javascript, PHP, S...</td>\n",
       "      <td>97000.0</td>\n",
       "      <td>Full-Time</td>\n",
       "      <td>NaN</td>\n",
       "      <td>Developer</td>\n",
       "      <td>[.net, c#, cobol, css, html, javascript, php, ...</td>\n",
       "    </tr>\n",
       "    <tr>\n",
       "      <th>6090</th>\n",
       "      <td>sql</td>\n",
       "      <td>.NET, C#, COBOL, CSS, HTML, Javascript, PHP, S...</td>\n",
       "      <td>97000.0</td>\n",
       "      <td>Full-Time</td>\n",
       "      <td>NaN</td>\n",
       "      <td>Developer</td>\n",
       "      <td>[.net, c#, cobol, css, html, javascript, php, ...</td>\n",
       "    </tr>\n",
       "    <tr>\n",
       "      <th>6090</th>\n",
       "      <td>vba</td>\n",
       "      <td>.NET, C#, COBOL, CSS, HTML, Javascript, PHP, S...</td>\n",
       "      <td>97000.0</td>\n",
       "      <td>Full-Time</td>\n",
       "      <td>NaN</td>\n",
       "      <td>Developer</td>\n",
       "      <td>[.net, c#, cobol, css, html, javascript, php, ...</td>\n",
       "    </tr>\n",
       "  </tbody>\n",
       "</table>\n",
       "<p>6620 rows × 7 columns</p>\n",
       "</div>"
      ],
      "text/plain": [
       "     programming_language  ...                        cured_programming_languages\n",
       "1                    html  ...                         [html, javascript, python]\n",
       "1              javascript  ...                         [html, javascript, python]\n",
       "1                  python  ...                         [html, javascript, python]\n",
       "4                     css  ...           [css, html, javascript, sql, typescript]\n",
       "4                    html  ...           [css, html, javascript, sql, typescript]\n",
       "...                   ...  ...                                                ...\n",
       "6090                 html  ...  [.net, c#, cobol, css, html, javascript, php, ...\n",
       "6090           javascript  ...  [.net, c#, cobol, css, html, javascript, php, ...\n",
       "6090                  php  ...  [.net, c#, cobol, css, html, javascript, php, ...\n",
       "6090                  sql  ...  [.net, c#, cobol, css, html, javascript, php, ...\n",
       "6090                  vba  ...  [.net, c#, cobol, css, html, javascript, php, ...\n",
       "\n",
       "[6620 rows x 7 columns]"
      ]
     },
     "execution_count": 33,
     "metadata": {
      "tags": []
     },
     "output_type": "execute_result"
    }
   ],
   "source": [
    "# Pregunta: Dentro de los desarrolladores, que trabajan full time y cuyo sueldo no está dolarizado, ¿cuáles son los lenguajes de programación asociados a mayores salarios en pesos?\n",
    "p1=df_lang[\"salary_in_usd\"]!=\"Mi sueldo está dolarizado\"\n",
    "p2=df_lang['work_contract_type']==\"Full-Time\"\n",
    "df_lang['work_role']=np.where((df_lang.work_role=='Frontend dev Jr ') |\n",
    "                                   (df_lang.work_role=='back end') |\n",
    "                                    (df_lang.work_role=='trabajo como desarrollador back, pero también tengo que estar haciendo de analista , DBA, dev frontend y a veces de helpdesk') \n",
    "                                    ,'Developer' ,df_lang.work_role)\n",
    "\n",
    "p3= df_lang[\"work_role\"].isin((['Developer','Software engineer','Analista/desarrollador','Technical Lead Devops']))\n",
    "df_fil=df_lang[p1 & p2 & p3]\n",
    "df_fil\n"
   ]
  },
  {
   "cell_type": "code",
   "execution_count": null,
   "metadata": {
    "colab": {
     "base_uri": "https://localhost:8080/"
    },
    "id": "76DEAvOqY4YG",
    "outputId": "40a29ab1-27e3-4373-e809-cd57b4b64b77"
   },
   "outputs": [
    {
     "data": {
      "text/plain": [
       "(6620, 7)"
      ]
     },
     "execution_count": 34,
     "metadata": {
      "tags": []
     },
     "output_type": "execute_result"
    }
   ],
   "source": [
    "df_fil.shape"
   ]
  },
  {
   "cell_type": "code",
   "execution_count": null,
   "metadata": {
    "colab": {
     "base_uri": "https://localhost:8080/",
     "height": 571
    },
    "id": "8f8EMQdWWLyn",
    "outputId": "0222d878-d849-4866-a69b-2ddaf0484475"
   },
   "outputs": [
    {
     "name": "stderr",
     "output_type": "stream",
     "text": [
      "/usr/local/lib/python3.7/dist-packages/seaborn/_decorators.py:43: FutureWarning: Pass the following variable as a keyword arg: x. From version 0.12, the only valid positional argument will be `data`, and passing other arguments without an explicit keyword will result in an error or misinterpretation.\n",
      "  FutureWarning\n",
      "/usr/local/lib/python3.7/dist-packages/seaborn/distributions.py:2557: FutureWarning: `distplot` is a deprecated function and will be removed in a future version. Please adapt your code to use either `displot` (a figure-level function with similar flexibility) or `histplot` (an axes-level function for histograms).\n",
      "  warnings.warn(msg, FutureWarning)\n"
     ]
    },
    {
     "data": {
      "image/png": "[encoded data removed]",
      "text/plain": [
       "<Figure size 720x504 with 2 Axes>"
      ]
     },
     "metadata": {
      "needs_background": "light",
      "tags": []
     },
     "output_type": "display_data"
    }
   ],
   "source": [
    "#Se divide el gráfico en dos partes\n",
    "\n",
    "f, (ax_box, ax_hist) = plt.subplots(2, sharex=True, figsize=(10,7),gridspec_kw={\"height_ratios\": (.15, .85)})\n",
    " \n",
    "#Se añade un gráfico a cada parte\n",
    "\n",
    "sns.boxplot(df_fil.salary_monthly_NETO, ax=ax_box)\n",
    "sns.distplot(df_fil.salary_monthly_NETO, ax=ax_hist, kde=False, hist=False)\n",
    "sns.distplot(df_fil.salary_monthly_NETO, ax=ax_hist, kde=True, hist=True,norm_hist=False,color=\"deeppink\")\n",
    "\n",
    "plt.axvline(df_fil.salary_monthly_NETO.quantile(0.25))\n",
    "plt.axvline(df_fil.salary_monthly_NETO.quantile(0.50),color='g')\n",
    "plt.axvline(df_fil.salary_monthly_NETO.quantile(0.75))\n",
    " \n",
    "ax_box.set_title(\"Distribución de la variable salario NETO\")\n",
    "plt.show()\n"
   ]
  },
  {
   "cell_type": "code",
   "execution_count": null,
   "metadata": {
    "colab": {
     "base_uri": "https://localhost:8080/",
     "height": 287
    },
    "id": "KTNWcMyVHD1W",
    "outputId": "1fc69ab5-71b5-44c4-fa16-5c403e47006a"
   },
   "outputs": [
    {
     "data": {
      "text/html": [
       "<div>\n",
       "<style scoped>\n",
       "    .dataframe tbody tr th:only-of-type {\n",
       "        vertical-align: middle;\n",
       "    }\n",
       "\n",
       "    .dataframe tbody tr th {\n",
       "        vertical-align: top;\n",
       "    }\n",
       "\n",
       "    .dataframe thead th {\n",
       "        text-align: right;\n",
       "    }\n",
       "</style>\n",
       "<table border=\"1\" class=\"dataframe\">\n",
       "  <thead>\n",
       "    <tr style=\"text-align: right;\">\n",
       "      <th></th>\n",
       "      <th>index</th>\n",
       "      <th>salary_monthly_NETO</th>\n",
       "    </tr>\n",
       "  </thead>\n",
       "  <tbody>\n",
       "    <tr>\n",
       "      <th>0</th>\n",
       "      <td>count</td>\n",
       "      <td>6446.000000</td>\n",
       "    </tr>\n",
       "    <tr>\n",
       "      <th>1</th>\n",
       "      <td>mean</td>\n",
       "      <td>73597.815254</td>\n",
       "    </tr>\n",
       "    <tr>\n",
       "      <th>2</th>\n",
       "      <td>std</td>\n",
       "      <td>34662.111904</td>\n",
       "    </tr>\n",
       "    <tr>\n",
       "      <th>3</th>\n",
       "      <td>min</td>\n",
       "      <td>13.000000</td>\n",
       "    </tr>\n",
       "    <tr>\n",
       "      <th>4</th>\n",
       "      <td>25%</td>\n",
       "      <td>50000.000000</td>\n",
       "    </tr>\n",
       "    <tr>\n",
       "      <th>5</th>\n",
       "      <td>50%</td>\n",
       "      <td>70966.000000</td>\n",
       "    </tr>\n",
       "    <tr>\n",
       "      <th>6</th>\n",
       "      <td>75%</td>\n",
       "      <td>93000.000000</td>\n",
       "    </tr>\n",
       "    <tr>\n",
       "      <th>7</th>\n",
       "      <td>max</td>\n",
       "      <td>470000.000000</td>\n",
       "    </tr>\n",
       "  </tbody>\n",
       "</table>\n",
       "</div>"
      ],
      "text/plain": [
       "   index  salary_monthly_NETO\n",
       "0  count          6446.000000\n",
       "1   mean         73597.815254\n",
       "2    std         34662.111904\n",
       "3    min            13.000000\n",
       "4    25%         50000.000000\n",
       "5    50%         70966.000000\n",
       "6    75%         93000.000000\n",
       "7    max        470000.000000"
      ]
     },
     "execution_count": 36,
     "metadata": {
      "tags": []
     },
     "output_type": "execute_result"
    }
   ],
   "source": [
    "df_fil.salary_monthly_NETO.describe().reset_index()"
   ]
  },
  {
   "cell_type": "markdown",
   "metadata": {
    "id": "d1E6Zp36HC-Q"
   },
   "source": [
    "El gráfico de distribución de arriba nos muestra que el 50% de salarios para el grupo seleccionado se halla entre los 50.000 y 93.000 pesos, existiendo un sesgo hacia la izquierda en la distribución de los datos. Esto significa que la mayoría de los datos se concentran a la izquierda de la distribución, mientras que la minoría de ellos se encuentran hacia la derecha (asimetría derecha). Esta asimetría podría deberse a la existencia de valores extremos (outliers) en los datos como se puede visualizar en el boxplot de arriba. Es importante mencionar que el gráfico nos muestra como sería la distribución teórica, teniendo en cuenta que el área debajo de la curva debe ser igual a 1."
   ]
  },
  {
   "cell_type": "markdown",
   "metadata": {
    "id": "Ln59R3qTVqoh"
   },
   "source": [
    "Ahora, calculamos los percentiles para determinar si estableceremos límites a nuestra población."
   ]
  },
  {
   "cell_type": "code",
   "execution_count": null,
   "metadata": {
    "colab": {
     "base_uri": "https://localhost:8080/"
    },
    "id": "FQ5ML52UDDRx",
    "outputId": "f224caed-c476-4bbe-d96b-7bbe445db393"
   },
   "outputs": [
    {
     "data": {
      "text/plain": [
       "0.100     37000.0\n",
       "0.950    130000.0\n",
       "0.980    150000.0\n",
       "0.990    170000.0\n",
       "0.995    200000.0\n",
       "0.998    250000.0\n",
       "0.999    280000.0\n",
       "Name: salary_monthly_NETO, dtype: float64"
      ]
     },
     "execution_count": 37,
     "metadata": {
      "tags": []
     },
     "output_type": "execute_result"
    }
   ],
   "source": [
    "df_fil.salary_monthly_NETO.quantile([.10,.95,.98, .99, .995, .998, .999])"
   ]
  },
  {
   "cell_type": "markdown",
   "metadata": {
    "id": "1oBArA1cV7V2"
   },
   "source": [
    "##Consideraciones\n",
    "---\n",
    "\n",
    "\n",
    "Hemos decidido, luego de calcular percentiles sobre los valores de salarios mensuales netos, restringir nuestra muestra a aquellas personas que cobran igual o más de 37000 pesos e igual o menos de 250000 pesos, valores que se corresponden con los percentiles del 10% y 99,8%, reduciendo así en un 10,2% los valores de la muestra.\n",
    "\n",
    "Tomamos esta decisión teniendo en cuenta que, por un lado, nos parece razonable considerar un valor de salario mínimo de 37000 pesos, ya que teniendo en cuenta que la línea de pobreza en la argentina para una familia tipo ronda los 50000 pesos, y que el salario mínimo vital y móvil se encuentra actualmente alrededor de los 22000 pesos (con aumentos ya previstos que lo llevaran hasta aproximadamente 30000 pesos), los valores por debajo de 37000 para un trabajo full-time, deben ser probablemente errores o personas realizando pasantías o trabajos (casi) ad-honorem. Por otra parte, también nos parece razonable un techo de 250000 pesos para nuestro análisis teniendo en cuenta que por lo que conocemos, en la rama de programación en general se cobran mayores salarios que en las demás ramas laborales, es decir, no nos parece un techo excesivamente alto teniendo en cuenta que es una rama laboral en general bien paga, pero claramente es un valor más que considerable teniendo en cuenta que representa la cantidad de aproximadamente 10 salarios minimo vital y movil.\n",
    "\n",
    "***Entonces considerando lo hasta aquí desarrollado del punto 2, reformulamos la pregunta original a: Dentro de las personas que trabajan en argentina, como desarrolladores, con modalidad de trabajo full-time, cuyo sueldo neto se encuentra entre 37000 y 250000 pesos¿Cuáles son los lenguajes de programación asociados a los mejores salarios?***"
   ]
  },
  {
   "cell_type": "code",
   "execution_count": null,
   "metadata": {
    "colab": {
     "base_uri": "https://localhost:8080/",
     "height": 406
    },
    "id": "qYhPtCf_CP6O",
    "outputId": "0d84d212-5f8f-42f0-bae1-0077900ffeca"
   },
   "outputs": [
    {
     "data": {
      "text/html": [
       "<div>\n",
       "<style scoped>\n",
       "    .dataframe tbody tr th:only-of-type {\n",
       "        vertical-align: middle;\n",
       "    }\n",
       "\n",
       "    .dataframe tbody tr th {\n",
       "        vertical-align: top;\n",
       "    }\n",
       "\n",
       "    .dataframe thead th {\n",
       "        text-align: right;\n",
       "    }\n",
       "</style>\n",
       "<table border=\"1\" class=\"dataframe\">\n",
       "  <thead>\n",
       "    <tr style=\"text-align: right;\">\n",
       "      <th></th>\n",
       "      <th>programming_language</th>\n",
       "      <th>tools_programming_languages</th>\n",
       "      <th>salary_monthly_NETO</th>\n",
       "      <th>work_contract_type</th>\n",
       "      <th>salary_in_usd</th>\n",
       "      <th>work_role</th>\n",
       "      <th>cured_programming_languages</th>\n",
       "    </tr>\n",
       "  </thead>\n",
       "  <tbody>\n",
       "    <tr>\n",
       "      <th>1</th>\n",
       "      <td>html</td>\n",
       "      <td>HTML, Javascript, Python</td>\n",
       "      <td>63000.0</td>\n",
       "      <td>Full-Time</td>\n",
       "      <td>NaN</td>\n",
       "      <td>Developer</td>\n",
       "      <td>[html, javascript, python]</td>\n",
       "    </tr>\n",
       "    <tr>\n",
       "      <th>1</th>\n",
       "      <td>javascript</td>\n",
       "      <td>HTML, Javascript, Python</td>\n",
       "      <td>63000.0</td>\n",
       "      <td>Full-Time</td>\n",
       "      <td>NaN</td>\n",
       "      <td>Developer</td>\n",
       "      <td>[html, javascript, python]</td>\n",
       "    </tr>\n",
       "    <tr>\n",
       "      <th>1</th>\n",
       "      <td>python</td>\n",
       "      <td>HTML, Javascript, Python</td>\n",
       "      <td>63000.0</td>\n",
       "      <td>Full-Time</td>\n",
       "      <td>NaN</td>\n",
       "      <td>Developer</td>\n",
       "      <td>[html, javascript, python]</td>\n",
       "    </tr>\n",
       "    <tr>\n",
       "      <th>4</th>\n",
       "      <td>css</td>\n",
       "      <td>CSS, HTML, Javascript, SQL, TypeScript</td>\n",
       "      <td>106000.0</td>\n",
       "      <td>Full-Time</td>\n",
       "      <td>NaN</td>\n",
       "      <td>Developer</td>\n",
       "      <td>[css, html, javascript, sql, typescript]</td>\n",
       "    </tr>\n",
       "    <tr>\n",
       "      <th>4</th>\n",
       "      <td>html</td>\n",
       "      <td>CSS, HTML, Javascript, SQL, TypeScript</td>\n",
       "      <td>106000.0</td>\n",
       "      <td>Full-Time</td>\n",
       "      <td>NaN</td>\n",
       "      <td>Developer</td>\n",
       "      <td>[css, html, javascript, sql, typescript]</td>\n",
       "    </tr>\n",
       "    <tr>\n",
       "      <th>...</th>\n",
       "      <td>...</td>\n",
       "      <td>...</td>\n",
       "      <td>...</td>\n",
       "      <td>...</td>\n",
       "      <td>...</td>\n",
       "      <td>...</td>\n",
       "      <td>...</td>\n",
       "    </tr>\n",
       "    <tr>\n",
       "      <th>6090</th>\n",
       "      <td>html</td>\n",
       "      <td>.NET, C#, COBOL, CSS, HTML, Javascript, PHP, S...</td>\n",
       "      <td>97000.0</td>\n",
       "      <td>Full-Time</td>\n",
       "      <td>NaN</td>\n",
       "      <td>Developer</td>\n",
       "      <td>[.net, c#, cobol, css, html, javascript, php, ...</td>\n",
       "    </tr>\n",
       "    <tr>\n",
       "      <th>6090</th>\n",
       "      <td>javascript</td>\n",
       "      <td>.NET, C#, COBOL, CSS, HTML, Javascript, PHP, S...</td>\n",
       "      <td>97000.0</td>\n",
       "      <td>Full-Time</td>\n",
       "      <td>NaN</td>\n",
       "      <td>Developer</td>\n",
       "      <td>[.net, c#, cobol, css, html, javascript, php, ...</td>\n",
       "    </tr>\n",
       "    <tr>\n",
       "      <th>6090</th>\n",
       "      <td>php</td>\n",
       "      <td>.NET, C#, COBOL, CSS, HTML, Javascript, PHP, S...</td>\n",
       "      <td>97000.0</td>\n",
       "      <td>Full-Time</td>\n",
       "      <td>NaN</td>\n",
       "      <td>Developer</td>\n",
       "      <td>[.net, c#, cobol, css, html, javascript, php, ...</td>\n",
       "    </tr>\n",
       "    <tr>\n",
       "      <th>6090</th>\n",
       "      <td>sql</td>\n",
       "      <td>.NET, C#, COBOL, CSS, HTML, Javascript, PHP, S...</td>\n",
       "      <td>97000.0</td>\n",
       "      <td>Full-Time</td>\n",
       "      <td>NaN</td>\n",
       "      <td>Developer</td>\n",
       "      <td>[.net, c#, cobol, css, html, javascript, php, ...</td>\n",
       "    </tr>\n",
       "    <tr>\n",
       "      <th>6090</th>\n",
       "      <td>vba</td>\n",
       "      <td>.NET, C#, COBOL, CSS, HTML, Javascript, PHP, S...</td>\n",
       "      <td>97000.0</td>\n",
       "      <td>Full-Time</td>\n",
       "      <td>NaN</td>\n",
       "      <td>Developer</td>\n",
       "      <td>[.net, c#, cobol, css, html, javascript, php, ...</td>\n",
       "    </tr>\n",
       "  </tbody>\n",
       "</table>\n",
       "<p>5786 rows × 7 columns</p>\n",
       "</div>"
      ],
      "text/plain": [
       "     programming_language  ...                        cured_programming_languages\n",
       "1                    html  ...                         [html, javascript, python]\n",
       "1              javascript  ...                         [html, javascript, python]\n",
       "1                  python  ...                         [html, javascript, python]\n",
       "4                     css  ...           [css, html, javascript, sql, typescript]\n",
       "4                    html  ...           [css, html, javascript, sql, typescript]\n",
       "...                   ...  ...                                                ...\n",
       "6090                 html  ...  [.net, c#, cobol, css, html, javascript, php, ...\n",
       "6090           javascript  ...  [.net, c#, cobol, css, html, javascript, php, ...\n",
       "6090                  php  ...  [.net, c#, cobol, css, html, javascript, php, ...\n",
       "6090                  sql  ...  [.net, c#, cobol, css, html, javascript, php, ...\n",
       "6090                  vba  ...  [.net, c#, cobol, css, html, javascript, php, ...\n",
       "\n",
       "[5786 rows x 7 columns]"
      ]
     },
     "execution_count": 38,
     "metadata": {
      "tags": []
     },
     "output_type": "execute_result"
    }
   ],
   "source": [
    "\n",
    "#Eliminación de valores inferiores al percentil 0.10 y superiores al percentil 0.998\n",
    "\n",
    "df_fil=df_fil[(df_fil.salary_monthly_NETO > df_fil.salary_monthly_NETO.quantile(0.10)) & (df_fil.salary_monthly_NETO < df_fil.salary_monthly_NETO.quantile(.998))]\n",
    "df_fil"
   ]
  },
  {
   "cell_type": "code",
   "execution_count": null,
   "metadata": {
    "colab": {
     "base_uri": "https://localhost:8080/",
     "height": 571
    },
    "id": "a-7StvwFwxAg",
    "outputId": "92011d2f-a6ee-47e3-87df-f0efe42d3a6a"
   },
   "outputs": [
    {
     "name": "stderr",
     "output_type": "stream",
     "text": [
      "/usr/local/lib/python3.7/dist-packages/seaborn/_decorators.py:43: FutureWarning: Pass the following variable as a keyword arg: x. From version 0.12, the only valid positional argument will be `data`, and passing other arguments without an explicit keyword will result in an error or misinterpretation.\n",
      "  FutureWarning\n",
      "/usr/local/lib/python3.7/dist-packages/seaborn/distributions.py:2557: FutureWarning: `distplot` is a deprecated function and will be removed in a future version. Please adapt your code to use either `displot` (a figure-level function with similar flexibility) or `histplot` (an axes-level function for histograms).\n",
      "  warnings.warn(msg, FutureWarning)\n"
     ]
    },
    {
     "data": {
      "image/png": "[encoded data removed]",
      "text/plain": [
       "<Figure size 720x504 with 2 Axes>"
      ]
     },
     "metadata": {
      "needs_background": "light",
      "tags": []
     },
     "output_type": "display_data"
    }
   ],
   "source": [
    "#Se divide el gráfico en dos partes\n",
    "\n",
    "f, (ax_box, ax_hist) = plt.subplots(2, sharex=True, figsize=(10,7),gridspec_kw={\"height_ratios\": (.15, .85)})\n",
    " \n",
    "#Se añade un gráfico a cada parte\n",
    "\n",
    "sns.boxplot(df_fil.salary_monthly_NETO, ax=ax_box)\n",
    "sns.distplot(df_fil.salary_monthly_NETO, ax=ax_hist, kde=False, hist=False)\n",
    "sns.distplot(df_fil.salary_monthly_NETO, ax=ax_hist, kde=True, hist=True,norm_hist=False,color=\"deeppink\")\n",
    "\n",
    "plt.axvline(df_fil.salary_monthly_NETO.quantile(0.25))\n",
    "plt.axvline(df_fil.salary_monthly_NETO.quantile(0.50),color='g')\n",
    "plt.axvline(df_fil.salary_monthly_NETO.quantile(0.75))\n",
    " \n",
    "ax_box.set_title(\"Distribución de la variable salario NETO\")\n",
    "plt.show()"
   ]
  },
  {
   "cell_type": "code",
   "execution_count": null,
   "metadata": {
    "colab": {
     "base_uri": "https://localhost:8080/",
     "height": 287
    },
    "id": "DeUJ9AatBS5j",
    "outputId": "10b5a55f-5aae-40c9-97c0-b63f9fdf58b9"
   },
   "outputs": [
    {
     "data": {
      "text/html": [
       "<div>\n",
       "<style scoped>\n",
       "    .dataframe tbody tr th:only-of-type {\n",
       "        vertical-align: middle;\n",
       "    }\n",
       "\n",
       "    .dataframe tbody tr th {\n",
       "        vertical-align: top;\n",
       "    }\n",
       "\n",
       "    .dataframe thead th {\n",
       "        text-align: right;\n",
       "    }\n",
       "</style>\n",
       "<table border=\"1\" class=\"dataframe\">\n",
       "  <thead>\n",
       "    <tr style=\"text-align: right;\">\n",
       "      <th></th>\n",
       "      <th>index</th>\n",
       "      <th>salary_monthly_NETO</th>\n",
       "    </tr>\n",
       "  </thead>\n",
       "  <tbody>\n",
       "    <tr>\n",
       "      <th>0</th>\n",
       "      <td>count</td>\n",
       "      <td>5786.000000</td>\n",
       "    </tr>\n",
       "    <tr>\n",
       "      <th>1</th>\n",
       "      <td>mean</td>\n",
       "      <td>78893.740461</td>\n",
       "    </tr>\n",
       "    <tr>\n",
       "      <th>2</th>\n",
       "      <td>std</td>\n",
       "      <td>28894.880194</td>\n",
       "    </tr>\n",
       "    <tr>\n",
       "      <th>3</th>\n",
       "      <td>min</td>\n",
       "      <td>37200.000000</td>\n",
       "    </tr>\n",
       "    <tr>\n",
       "      <th>4</th>\n",
       "      <td>25%</td>\n",
       "      <td>57000.000000</td>\n",
       "    </tr>\n",
       "    <tr>\n",
       "      <th>5</th>\n",
       "      <td>50%</td>\n",
       "      <td>75000.000000</td>\n",
       "    </tr>\n",
       "    <tr>\n",
       "      <th>6</th>\n",
       "      <td>75%</td>\n",
       "      <td>95000.000000</td>\n",
       "    </tr>\n",
       "    <tr>\n",
       "      <th>7</th>\n",
       "      <td>max</td>\n",
       "      <td>207000.000000</td>\n",
       "    </tr>\n",
       "  </tbody>\n",
       "</table>\n",
       "</div>"
      ],
      "text/plain": [
       "   index  salary_monthly_NETO\n",
       "0  count          5786.000000\n",
       "1   mean         78893.740461\n",
       "2    std         28894.880194\n",
       "3    min         37200.000000\n",
       "4    25%         57000.000000\n",
       "5    50%         75000.000000\n",
       "6    75%         95000.000000\n",
       "7    max        207000.000000"
      ]
     },
     "execution_count": 40,
     "metadata": {
      "tags": []
     },
     "output_type": "execute_result"
    }
   ],
   "source": [
    "df_fil.salary_monthly_NETO.describe().reset_index()"
   ]
  },
  {
   "cell_type": "markdown",
   "metadata": {
    "id": "TP7M0gapJRUR"
   },
   "source": [
    "El gráfico de arriba nos muestra la distribución de la variable salario neto luego de eliminar los valores inferiores al percentil 0.10 y superiores al percentil 0.998"
   ]
  },
  {
   "cell_type": "code",
   "execution_count": null,
   "metadata": {
    "id": "cpYcIr1Qcsd2"
   },
   "outputs": [],
   "source": [
    "##Lenguajes más frecuentes"
   ]
  },
  {
   "cell_type": "markdown",
   "metadata": {
    "id": "qm8NUg-7UEue"
   },
   "source": [
    "En la columna `programming_language` se encuentra cada lenguaje por separado. Notar que si una respuesta contenía 3 lenguajes, como `\"HTML, Javascript, Python\"`, la fila ha sido replicada 3 veces. Por ello, hay tres filas con índice 1."
   ]
  },
  {
   "cell_type": "code",
   "execution_count": null,
   "metadata": {
    "id": "lNPb4tTvWCwv"
   },
   "outputs": [],
   "source": [
    "language_count = df_fil.programming_language.value_counts()\\\n",
    "    .reset_index()\\\n",
    "    .rename(columns={'index': 'language', 'programming_language': 'frequency'})\n",
    "interesting_languages=language_count[:10].language.tolist()"
   ]
  },
  {
   "cell_type": "code",
   "execution_count": null,
   "metadata": {
    "colab": {
     "base_uri": "https://localhost:8080/",
     "height": 347
    },
    "id": "ORGwYcCRc32B",
    "outputId": "5fb8824b-5b73-417b-fe44-d64e9cef2993"
   },
   "outputs": [
    {
     "data": {
      "text/html": [
       "<div>\n",
       "<style scoped>\n",
       "    .dataframe tbody tr th:only-of-type {\n",
       "        vertical-align: middle;\n",
       "    }\n",
       "\n",
       "    .dataframe tbody tr th {\n",
       "        vertical-align: top;\n",
       "    }\n",
       "\n",
       "    .dataframe thead th {\n",
       "        text-align: right;\n",
       "    }\n",
       "</style>\n",
       "<table border=\"1\" class=\"dataframe\">\n",
       "  <thead>\n",
       "    <tr style=\"text-align: right;\">\n",
       "      <th></th>\n",
       "      <th>language</th>\n",
       "      <th>frequency</th>\n",
       "    </tr>\n",
       "  </thead>\n",
       "  <tbody>\n",
       "    <tr>\n",
       "      <th>0</th>\n",
       "      <td>javascript</td>\n",
       "      <td>1005</td>\n",
       "    </tr>\n",
       "    <tr>\n",
       "      <th>1</th>\n",
       "      <td>html</td>\n",
       "      <td>708</td>\n",
       "    </tr>\n",
       "    <tr>\n",
       "      <th>2</th>\n",
       "      <td>sql</td>\n",
       "      <td>681</td>\n",
       "    </tr>\n",
       "    <tr>\n",
       "      <th>3</th>\n",
       "      <td>java</td>\n",
       "      <td>570</td>\n",
       "    </tr>\n",
       "    <tr>\n",
       "      <th>4</th>\n",
       "      <td>css</td>\n",
       "      <td>531</td>\n",
       "    </tr>\n",
       "    <tr>\n",
       "      <th>5</th>\n",
       "      <td>typescript</td>\n",
       "      <td>359</td>\n",
       "    </tr>\n",
       "    <tr>\n",
       "      <th>6</th>\n",
       "      <td>.net</td>\n",
       "      <td>306</td>\n",
       "    </tr>\n",
       "    <tr>\n",
       "      <th>7</th>\n",
       "      <td>c#</td>\n",
       "      <td>299</td>\n",
       "    </tr>\n",
       "    <tr>\n",
       "      <th>8</th>\n",
       "      <td>php</td>\n",
       "      <td>260</td>\n",
       "    </tr>\n",
       "    <tr>\n",
       "      <th>9</th>\n",
       "      <td>python</td>\n",
       "      <td>244</td>\n",
       "    </tr>\n",
       "  </tbody>\n",
       "</table>\n",
       "</div>"
      ],
      "text/plain": [
       "     language  frequency\n",
       "0  javascript       1005\n",
       "1        html        708\n",
       "2         sql        681\n",
       "3        java        570\n",
       "4         css        531\n",
       "5  typescript        359\n",
       "6        .net        306\n",
       "7          c#        299\n",
       "8         php        260\n",
       "9      python        244"
      ]
     },
     "execution_count": 43,
     "metadata": {
      "tags": []
     },
     "output_type": "execute_result"
    }
   ],
   "source": [
    "language_count[:10]"
   ]
  },
  {
   "cell_type": "markdown",
   "metadata": {
    "id": "nThbJ1KeUgDo"
   },
   "source": [
    "## Filtrado de lenguajes relevantes\n",
    "\n",
    "El siguiente código permite seleccionar sólo las filas donde el valor de la columna `programming_language` se encuentre en la lista `interesting_languages`."
   ]
  },
  {
   "cell_type": "code",
   "execution_count": null,
   "metadata": {
    "colab": {
     "base_uri": "https://localhost:8080/",
     "height": 197
    },
    "id": "DEpVptnLZUQU",
    "outputId": "f1f6e517-a780-452b-ff5c-32ff854a9ba2"
   },
   "outputs": [
    {
     "data": {
      "text/html": [
       "<div>\n",
       "<style scoped>\n",
       "    .dataframe tbody tr th:only-of-type {\n",
       "        vertical-align: middle;\n",
       "    }\n",
       "\n",
       "    .dataframe tbody tr th {\n",
       "        vertical-align: top;\n",
       "    }\n",
       "\n",
       "    .dataframe thead th {\n",
       "        text-align: right;\n",
       "    }\n",
       "</style>\n",
       "<table border=\"1\" class=\"dataframe\">\n",
       "  <thead>\n",
       "    <tr style=\"text-align: right;\">\n",
       "      <th></th>\n",
       "      <th>programming_language</th>\n",
       "      <th>tools_programming_languages</th>\n",
       "      <th>salary_monthly_NETO</th>\n",
       "      <th>work_contract_type</th>\n",
       "      <th>salary_in_usd</th>\n",
       "      <th>work_role</th>\n",
       "      <th>cured_programming_languages</th>\n",
       "    </tr>\n",
       "  </thead>\n",
       "  <tbody>\n",
       "    <tr>\n",
       "      <th>1</th>\n",
       "      <td>html</td>\n",
       "      <td>HTML, Javascript, Python</td>\n",
       "      <td>63000.0</td>\n",
       "      <td>Full-Time</td>\n",
       "      <td>NaN</td>\n",
       "      <td>Developer</td>\n",
       "      <td>[html, javascript, python]</td>\n",
       "    </tr>\n",
       "    <tr>\n",
       "      <th>1</th>\n",
       "      <td>javascript</td>\n",
       "      <td>HTML, Javascript, Python</td>\n",
       "      <td>63000.0</td>\n",
       "      <td>Full-Time</td>\n",
       "      <td>NaN</td>\n",
       "      <td>Developer</td>\n",
       "      <td>[html, javascript, python]</td>\n",
       "    </tr>\n",
       "    <tr>\n",
       "      <th>1</th>\n",
       "      <td>python</td>\n",
       "      <td>HTML, Javascript, Python</td>\n",
       "      <td>63000.0</td>\n",
       "      <td>Full-Time</td>\n",
       "      <td>NaN</td>\n",
       "      <td>Developer</td>\n",
       "      <td>[html, javascript, python]</td>\n",
       "    </tr>\n",
       "    <tr>\n",
       "      <th>4</th>\n",
       "      <td>css</td>\n",
       "      <td>CSS, HTML, Javascript, SQL, TypeScript</td>\n",
       "      <td>106000.0</td>\n",
       "      <td>Full-Time</td>\n",
       "      <td>NaN</td>\n",
       "      <td>Developer</td>\n",
       "      <td>[css, html, javascript, sql, typescript]</td>\n",
       "    </tr>\n",
       "    <tr>\n",
       "      <th>4</th>\n",
       "      <td>html</td>\n",
       "      <td>CSS, HTML, Javascript, SQL, TypeScript</td>\n",
       "      <td>106000.0</td>\n",
       "      <td>Full-Time</td>\n",
       "      <td>NaN</td>\n",
       "      <td>Developer</td>\n",
       "      <td>[css, html, javascript, sql, typescript]</td>\n",
       "    </tr>\n",
       "  </tbody>\n",
       "</table>\n",
       "</div>"
      ],
      "text/plain": [
       "  programming_language  ...               cured_programming_languages\n",
       "1                 html  ...                [html, javascript, python]\n",
       "1           javascript  ...                [html, javascript, python]\n",
       "1               python  ...                [html, javascript, python]\n",
       "4                  css  ...  [css, html, javascript, sql, typescript]\n",
       "4                 html  ...  [css, html, javascript, sql, typescript]\n",
       "\n",
       "[5 rows x 7 columns]"
      ]
     },
     "execution_count": 44,
     "metadata": {
      "tags": []
     },
     "output_type": "execute_result"
    }
   ],
   "source": [
    "# Filter out languages that we want to exclude\n",
    "# Se eligieron los 10 lenguajes mas frecuentes\n",
    "\n",
    "filtered_df_fil = df_fil[df_fil.programming_language.isin(interesting_languages)]\n",
    "filtered_df_fil[:5]"
   ]
  },
  {
   "cell_type": "markdown",
   "metadata": {
    "id": "reuua1KMXwSl"
   },
   "source": [
    "Comparamos las distribuciones para cada lenguaje de programación"
   ]
  },
  {
   "cell_type": "code",
   "execution_count": null,
   "metadata": {
    "colab": {
     "base_uri": "https://localhost:8080/",
     "height": 940
    },
    "id": "WK3fSFkbrhWk",
    "outputId": "1fcfd341-b9dd-4e20-f991-8095b52761ed"
   },
   "outputs": [
    {
     "data": {
      "image/png": "[encoded data removed]",
      "text/plain": [
       "<Figure size 1440x1080 with 1 Axes>"
      ]
     },
     "metadata": {
      "needs_background": "light",
      "tags": []
     },
     "output_type": "display_data"
    }
   ],
   "source": [
    "\n",
    "plt.figure(figsize=(20,15))\n",
    "\n",
    "ax = pt.RainCloud(y ='salary_monthly_NETO', x ='programming_language',data = filtered_df_fil, orient='h',width_viol = .8, width_box = 0.4, move = 0.0,pointplot = True\n",
    "                  ,order=filtered_df_fil.programming_language.value_counts()[:10].index)\n",
    "plt.xlabel(\"Salario Mensual Neto\")\n",
    "plt.ylabel(\"Lenguajes de Programación\")\n",
    "\n",
    "plt.title(\"Distribución de los salarios mensuales \\n discriminado por lenguaje de programación\")\n",
    "\n",
    "plt.show()"
   ]
  },
  {
   "cell_type": "markdown",
   "metadata": {
    "id": "w0RXa0pb61cH"
   },
   "source": [
    "A partir de este gráfico podemos observar que, en todos los casos, la media del salario neto (puntos rojos) se encuentra a la derecha de la mediana, lo cual nos indica una asimetría derecha en la distribución de los datos. Es por esto que, para nuestras conclusiones, nos basamos en los datos de la mediana."
   ]
  },
  {
   "cell_type": "code",
   "execution_count": null,
   "metadata": {
    "colab": {
     "base_uri": "https://localhost:8080/",
     "height": 407
    },
    "id": "I_yD2YtBRVOE",
    "outputId": "94223a27-88fe-42a2-dbf6-36a9d82d1249"
   },
   "outputs": [
    {
     "data": {
      "text/html": [
       "<div>\n",
       "<style scoped>\n",
       "    .dataframe tbody tr th:only-of-type {\n",
       "        vertical-align: middle;\n",
       "    }\n",
       "\n",
       "    .dataframe tbody tr th {\n",
       "        vertical-align: top;\n",
       "    }\n",
       "\n",
       "    .dataframe thead tr th {\n",
       "        text-align: left;\n",
       "    }\n",
       "\n",
       "    .dataframe thead tr:last-of-type th {\n",
       "        text-align: right;\n",
       "    }\n",
       "</style>\n",
       "<table border=\"1\" class=\"dataframe\">\n",
       "  <thead>\n",
       "    <tr>\n",
       "      <th></th>\n",
       "      <th colspan=\"8\" halign=\"left\">salary_monthly_NETO</th>\n",
       "    </tr>\n",
       "    <tr>\n",
       "      <th></th>\n",
       "      <th>count</th>\n",
       "      <th>mean</th>\n",
       "      <th>std</th>\n",
       "      <th>min</th>\n",
       "      <th>25%</th>\n",
       "      <th>50%</th>\n",
       "      <th>75%</th>\n",
       "      <th>max</th>\n",
       "    </tr>\n",
       "    <tr>\n",
       "      <th>programming_language</th>\n",
       "      <th></th>\n",
       "      <th></th>\n",
       "      <th></th>\n",
       "      <th></th>\n",
       "      <th></th>\n",
       "      <th></th>\n",
       "      <th></th>\n",
       "      <th></th>\n",
       "    </tr>\n",
       "  </thead>\n",
       "  <tbody>\n",
       "    <tr>\n",
       "      <th>.net</th>\n",
       "      <td>306.0</td>\n",
       "      <td>72290.440294</td>\n",
       "      <td>24028.815433</td>\n",
       "      <td>37200.0</td>\n",
       "      <td>54000.00</td>\n",
       "      <td>70250.0</td>\n",
       "      <td>86719.750</td>\n",
       "      <td>207000.0</td>\n",
       "    </tr>\n",
       "    <tr>\n",
       "      <th>c#</th>\n",
       "      <td>299.0</td>\n",
       "      <td>73736.317692</td>\n",
       "      <td>25415.863305</td>\n",
       "      <td>37200.0</td>\n",
       "      <td>55000.00</td>\n",
       "      <td>71000.0</td>\n",
       "      <td>88378.595</td>\n",
       "      <td>207000.0</td>\n",
       "    </tr>\n",
       "    <tr>\n",
       "      <th>css</th>\n",
       "      <td>531.0</td>\n",
       "      <td>75420.628060</td>\n",
       "      <td>27708.179013</td>\n",
       "      <td>37200.0</td>\n",
       "      <td>54000.00</td>\n",
       "      <td>71000.0</td>\n",
       "      <td>92325.000</td>\n",
       "      <td>207000.0</td>\n",
       "    </tr>\n",
       "    <tr>\n",
       "      <th>html</th>\n",
       "      <td>708.0</td>\n",
       "      <td>75445.458588</td>\n",
       "      <td>28195.086201</td>\n",
       "      <td>37200.0</td>\n",
       "      <td>54402.00</td>\n",
       "      <td>70000.0</td>\n",
       "      <td>90102.500</td>\n",
       "      <td>207000.0</td>\n",
       "    </tr>\n",
       "    <tr>\n",
       "      <th>java</th>\n",
       "      <td>570.0</td>\n",
       "      <td>84869.637368</td>\n",
       "      <td>30219.167907</td>\n",
       "      <td>37500.0</td>\n",
       "      <td>61253.75</td>\n",
       "      <td>82468.0</td>\n",
       "      <td>101860.000</td>\n",
       "      <td>207000.0</td>\n",
       "    </tr>\n",
       "    <tr>\n",
       "      <th>javascript</th>\n",
       "      <td>1005.0</td>\n",
       "      <td>78352.629443</td>\n",
       "      <td>28601.680623</td>\n",
       "      <td>37200.0</td>\n",
       "      <td>57000.00</td>\n",
       "      <td>75000.0</td>\n",
       "      <td>95000.000</td>\n",
       "      <td>207000.0</td>\n",
       "    </tr>\n",
       "    <tr>\n",
       "      <th>php</th>\n",
       "      <td>260.0</td>\n",
       "      <td>75421.197385</td>\n",
       "      <td>29415.070864</td>\n",
       "      <td>38000.0</td>\n",
       "      <td>53938.25</td>\n",
       "      <td>69400.0</td>\n",
       "      <td>89000.000</td>\n",
       "      <td>200000.0</td>\n",
       "    </tr>\n",
       "    <tr>\n",
       "      <th>python</th>\n",
       "      <td>244.0</td>\n",
       "      <td>84429.056025</td>\n",
       "      <td>30089.111044</td>\n",
       "      <td>37350.0</td>\n",
       "      <td>60000.00</td>\n",
       "      <td>82000.0</td>\n",
       "      <td>100000.000</td>\n",
       "      <td>192072.0</td>\n",
       "    </tr>\n",
       "    <tr>\n",
       "      <th>sql</th>\n",
       "      <td>681.0</td>\n",
       "      <td>76700.087709</td>\n",
       "      <td>28134.478300</td>\n",
       "      <td>37200.0</td>\n",
       "      <td>55000.00</td>\n",
       "      <td>73526.0</td>\n",
       "      <td>92950.000</td>\n",
       "      <td>207000.0</td>\n",
       "    </tr>\n",
       "    <tr>\n",
       "      <th>typescript</th>\n",
       "      <td>359.0</td>\n",
       "      <td>82515.604680</td>\n",
       "      <td>31170.826654</td>\n",
       "      <td>37200.0</td>\n",
       "      <td>60000.00</td>\n",
       "      <td>78500.0</td>\n",
       "      <td>100000.000</td>\n",
       "      <td>207000.0</td>\n",
       "    </tr>\n",
       "  </tbody>\n",
       "</table>\n",
       "</div>"
      ],
      "text/plain": [
       "                     salary_monthly_NETO                ...                      \n",
       "                                   count          mean  ...         75%       max\n",
       "programming_language                                    ...                      \n",
       ".net                               306.0  72290.440294  ...   86719.750  207000.0\n",
       "c#                                 299.0  73736.317692  ...   88378.595  207000.0\n",
       "css                                531.0  75420.628060  ...   92325.000  207000.0\n",
       "html                               708.0  75445.458588  ...   90102.500  207000.0\n",
       "java                               570.0  84869.637368  ...  101860.000  207000.0\n",
       "javascript                        1005.0  78352.629443  ...   95000.000  207000.0\n",
       "php                                260.0  75421.197385  ...   89000.000  200000.0\n",
       "python                             244.0  84429.056025  ...  100000.000  192072.0\n",
       "sql                                681.0  76700.087709  ...   92950.000  207000.0\n",
       "typescript                         359.0  82515.604680  ...  100000.000  207000.0\n",
       "\n",
       "[10 rows x 8 columns]"
      ]
     },
     "execution_count": 46,
     "metadata": {
      "tags": []
     },
     "output_type": "execute_result"
    }
   ],
   "source": [
    "filtered_df_fil[['programming_language', 'salary_monthly_NETO']].groupby('programming_language').describe()"
   ]
  },
  {
   "cell_type": "code",
   "execution_count": null,
   "metadata": {
    "colab": {
     "base_uri": "https://localhost:8080/",
     "height": 377
    },
    "id": "oBn6-BsYqnXk",
    "outputId": "ff37c886-1b52-4741-deb7-451a8f6a5c5c"
   },
   "outputs": [
    {
     "data": {
      "text/html": [
       "<div>\n",
       "<style scoped>\n",
       "    .dataframe tbody tr th:only-of-type {\n",
       "        vertical-align: middle;\n",
       "    }\n",
       "\n",
       "    .dataframe tbody tr th {\n",
       "        vertical-align: top;\n",
       "    }\n",
       "\n",
       "    .dataframe thead th {\n",
       "        text-align: right;\n",
       "    }\n",
       "</style>\n",
       "<table border=\"1\" class=\"dataframe\">\n",
       "  <thead>\n",
       "    <tr style=\"text-align: right;\">\n",
       "      <th></th>\n",
       "      <th>count</th>\n",
       "      <th>mean</th>\n",
       "      <th>std</th>\n",
       "      <th>min</th>\n",
       "      <th>25%</th>\n",
       "      <th>50%</th>\n",
       "      <th>75%</th>\n",
       "      <th>max</th>\n",
       "    </tr>\n",
       "    <tr>\n",
       "      <th>programming_language</th>\n",
       "      <th></th>\n",
       "      <th></th>\n",
       "      <th></th>\n",
       "      <th></th>\n",
       "      <th></th>\n",
       "      <th></th>\n",
       "      <th></th>\n",
       "      <th></th>\n",
       "    </tr>\n",
       "  </thead>\n",
       "  <tbody>\n",
       "    <tr>\n",
       "      <th>javascript</th>\n",
       "      <td>1005.0</td>\n",
       "      <td>78352.629443</td>\n",
       "      <td>28601.680623</td>\n",
       "      <td>37200.0</td>\n",
       "      <td>57000.00</td>\n",
       "      <td>75000.0</td>\n",
       "      <td>95000.000</td>\n",
       "      <td>207000.0</td>\n",
       "    </tr>\n",
       "    <tr>\n",
       "      <th>html</th>\n",
       "      <td>708.0</td>\n",
       "      <td>75445.458588</td>\n",
       "      <td>28195.086201</td>\n",
       "      <td>37200.0</td>\n",
       "      <td>54402.00</td>\n",
       "      <td>70000.0</td>\n",
       "      <td>90102.500</td>\n",
       "      <td>207000.0</td>\n",
       "    </tr>\n",
       "    <tr>\n",
       "      <th>sql</th>\n",
       "      <td>681.0</td>\n",
       "      <td>76700.087709</td>\n",
       "      <td>28134.478300</td>\n",
       "      <td>37200.0</td>\n",
       "      <td>55000.00</td>\n",
       "      <td>73526.0</td>\n",
       "      <td>92950.000</td>\n",
       "      <td>207000.0</td>\n",
       "    </tr>\n",
       "    <tr>\n",
       "      <th>java</th>\n",
       "      <td>570.0</td>\n",
       "      <td>84869.637368</td>\n",
       "      <td>30219.167907</td>\n",
       "      <td>37500.0</td>\n",
       "      <td>61253.75</td>\n",
       "      <td>82468.0</td>\n",
       "      <td>101860.000</td>\n",
       "      <td>207000.0</td>\n",
       "    </tr>\n",
       "    <tr>\n",
       "      <th>css</th>\n",
       "      <td>531.0</td>\n",
       "      <td>75420.628060</td>\n",
       "      <td>27708.179013</td>\n",
       "      <td>37200.0</td>\n",
       "      <td>54000.00</td>\n",
       "      <td>71000.0</td>\n",
       "      <td>92325.000</td>\n",
       "      <td>207000.0</td>\n",
       "    </tr>\n",
       "    <tr>\n",
       "      <th>typescript</th>\n",
       "      <td>359.0</td>\n",
       "      <td>82515.604680</td>\n",
       "      <td>31170.826654</td>\n",
       "      <td>37200.0</td>\n",
       "      <td>60000.00</td>\n",
       "      <td>78500.0</td>\n",
       "      <td>100000.000</td>\n",
       "      <td>207000.0</td>\n",
       "    </tr>\n",
       "    <tr>\n",
       "      <th>.net</th>\n",
       "      <td>306.0</td>\n",
       "      <td>72290.440294</td>\n",
       "      <td>24028.815433</td>\n",
       "      <td>37200.0</td>\n",
       "      <td>54000.00</td>\n",
       "      <td>70250.0</td>\n",
       "      <td>86719.750</td>\n",
       "      <td>207000.0</td>\n",
       "    </tr>\n",
       "    <tr>\n",
       "      <th>c#</th>\n",
       "      <td>299.0</td>\n",
       "      <td>73736.317692</td>\n",
       "      <td>25415.863305</td>\n",
       "      <td>37200.0</td>\n",
       "      <td>55000.00</td>\n",
       "      <td>71000.0</td>\n",
       "      <td>88378.595</td>\n",
       "      <td>207000.0</td>\n",
       "    </tr>\n",
       "    <tr>\n",
       "      <th>php</th>\n",
       "      <td>260.0</td>\n",
       "      <td>75421.197385</td>\n",
       "      <td>29415.070864</td>\n",
       "      <td>38000.0</td>\n",
       "      <td>53938.25</td>\n",
       "      <td>69400.0</td>\n",
       "      <td>89000.000</td>\n",
       "      <td>200000.0</td>\n",
       "    </tr>\n",
       "    <tr>\n",
       "      <th>python</th>\n",
       "      <td>244.0</td>\n",
       "      <td>84429.056025</td>\n",
       "      <td>30089.111044</td>\n",
       "      <td>37350.0</td>\n",
       "      <td>60000.00</td>\n",
       "      <td>82000.0</td>\n",
       "      <td>100000.000</td>\n",
       "      <td>192072.0</td>\n",
       "    </tr>\n",
       "  </tbody>\n",
       "</table>\n",
       "</div>"
      ],
      "text/plain": [
       "                       count          mean  ...         75%       max\n",
       "programming_language                        ...                      \n",
       "javascript            1005.0  78352.629443  ...   95000.000  207000.0\n",
       "html                   708.0  75445.458588  ...   90102.500  207000.0\n",
       "sql                    681.0  76700.087709  ...   92950.000  207000.0\n",
       "java                   570.0  84869.637368  ...  101860.000  207000.0\n",
       "css                    531.0  75420.628060  ...   92325.000  207000.0\n",
       "typescript             359.0  82515.604680  ...  100000.000  207000.0\n",
       ".net                   306.0  72290.440294  ...   86719.750  207000.0\n",
       "c#                     299.0  73736.317692  ...   88378.595  207000.0\n",
       "php                    260.0  75421.197385  ...   89000.000  200000.0\n",
       "python                 244.0  84429.056025  ...  100000.000  192072.0\n",
       "\n",
       "[10 rows x 8 columns]"
      ]
     },
     "execution_count": 47,
     "metadata": {
      "tags": []
     },
     "output_type": "execute_result"
    }
   ],
   "source": [
    "grouped=filtered_df_fil[['programming_language', 'salary_monthly_NETO']].groupby('programming_language').describe()\n",
    "grouped.columns = grouped.columns.droplevel(level=0)\n",
    "grouped.sort_values(by='count',ascending=False)"
   ]
  },
  {
   "cell_type": "markdown",
   "metadata": {
    "id": "vyTA-lt025N-"
   },
   "source": [
    "## Conclusiones\n",
    "A partir de las visualizaciones y respondiendo a la pregunta planteada, podríamos decir que dentro de los desarrolladores que trabajan full-time y cobran salarios en pesos de entre 37000 y 250000, aquellos que emplean java, python y typescript como lenguaje de programación son los que en general perciben mayores salarios en comparación con los que emplean otros lenguajes frecuentes como javascript, sql, c, css, .net, html y php, siendo este último el lenguaje menor pago.  "
   ]
  },
  {
   "cell_type": "code",
   "execution_count": null,
   "metadata": {},
   "outputs": [],
   "source": [
    "#fin"
   ]
  }
 ],
 "metadata": {
  "colab": {
   "collapsed_sections": [],
   "name": "G13 - Entregable, Parte 1 -Ejercicio 1 .ipynb",
   "provenance": []
  },
  "kernelspec": {
   "display_name": "Python 3",
   "language": "python",
   "name": "python3"
  },
  "language_info": {
   "codemirror_mode": {
    "name": "ipython",
    "version": 3
   },
   "file_extension": ".py",
   "mimetype": "text/x-python",
   "name": "python",
   "nbconvert_exporter": "python",
   "pygments_lexer": "ipython3",
   "version": "3.8.5"
  }
 },
 "nbformat": 4,
 "nbformat_minor": 4
}
